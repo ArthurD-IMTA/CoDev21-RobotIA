{
 "cells": [
  {
   "cell_type": "markdown",
   "metadata": {},
   "source": [
    "# Collision Avoidance - Data Collection"
   ]
  },
  {
   "cell_type": "markdown",
   "metadata": {},
   "source": [
    "!Attention!  \n",
    "Ce programme a été utilisé dans la première phase du projet afin de faciliter la récupération des données.  \n",
    "Cependant, il ne permet pas la collection des données dans les fichiers nécessaires pour pouvoir faire fonctionner le robot correctement avec les autres fichiers.  \n",
    "Il faudrait le réadapter en s'aidant du fichier collecte_buttons.ipynb"
   ]
  },
  {
   "cell_type": "code",
   "execution_count": 5,
   "metadata": {},
   "outputs": [
    {
     "name": "stdout",
     "output_type": "stream",
     "text": [
      "Directories not created because they already exist\n"
     ]
    }
   ],
   "source": [
    "# INITIALISATION DE LA CAMERA ET IMPORTATION DES BIBLIOTHEQUES\n",
    "import traitlets\n",
    "import ipywidgets.widgets as widgets\n",
    "from IPython.display import display\n",
    "from jetbot import Camera, bgr8_to_jpeg\n",
    "import ipywidgets.widgets as widgets\n",
    "\n",
    "controller = widgets.Controller(index=0)  # replace with index of your controller\n",
    "\n",
    "camera = Camera.instance(width=224, height=224)\n",
    "image = widgets.Image(format='jpeg', width=224, height=224)  # this width and height doesn't necessarily have to match the camera\n",
    "\n",
    "camera_link = traitlets.dlink((camera, 'value'), (image, 'value'), transform=bgr8_to_jpeg)\n",
    "\n",
    "#---- CREATION DES DOSSIERS CONTENANT LES DIFFERENTES PHOTOS -----\n",
    "import os\n",
    "\n",
    "detectnames = ['blocked','free','stopsign', 'speed1sign','speed2sign','speed3sign','moveright','moveleft','pieton']\n",
    "detectdirs = []\n",
    "for i in range(len(detectnames)):\n",
    "    detectdirs.append('dataset/'+ detectnames[i])\n",
    "\n",
    "# we have this \"try/except\" statement because these next functions can throw an error if the directories exist already\n",
    "try:\n",
    "    for i in range(len(detectdirs)):\n",
    "        os.makedirs(detectdirs[i])\n",
    "\n",
    "except FileExistsError:\n",
    "    print('Directories not created because they already exist')\n",
    "    \n",
    "    \n",
    "\n",
    "#FORME\n",
    "layout = widgets.Layout(width='200px', height='32px')\n",
    "\n",
    "\n",
    "#----- COMPTEUR D'ELEMENTS -----\n",
    "compteurs = []\n",
    "for directory in detectdirs:\n",
    "    compteurs.append(widgets.IntText(layout=layout, value=len(os.listdir(directory))))\n",
    "    \n",
    "    \n",
    "# ----- Evenement on click -----\n",
    "\n",
    "from uuid import uuid1\n",
    "\n",
    "def save_snapshot(directory):\n",
    "    image_path = os.path.join(directory, str(uuid1()) + '.jpg')\n",
    "    with open(image_path, 'wb') as f:\n",
    "        f.write(image.value)\n",
    "\n",
    "def save(i):\n",
    "    print(i)\n",
    "    global detectdirs, compteurs\n",
    "    save_snapshot(detectdirs[i])\n",
    "    compteurs[i].value = len(os.listdir(detectdirs[i]))    \n"
   ]
  },
  {
   "cell_type": "code",
   "execution_count": 6,
   "metadata": {},
   "outputs": [],
   "source": [
    "from jetbot import Robot\n",
    "import traitlets\n",
    "\n",
    "robot = Robot()\n",
    "p_max = 0.7 #puissance max en avancant (toujours<1)\n",
    "\n",
    "floatsliderl = widgets.FloatSlider(value=0, min=-1.0, max=1.0, step=0.01)\n",
    "floatsliderd = widgets.FloatSlider(value=0, min=-1.0, max=1.0, step=0.01)\n",
    "\n",
    "\n",
    "#left_link = traitlets.dlink((floatsliderl, 'value'), (robot.left_motor, 'value'), transform=lambda x: -x)\n",
    "#right_link = traitlets.dlink((controller.axes[1]*2-0.065*controller.axes[3], 'value'), (robot.right_motor, 'value'), transform=lambda x: -x)\n",
    "def change_value(change):\n",
    "    valeurl = -controller.axes[3].value*p_max+controller.axes[0].value*(1-p_max)\n",
    "    valeurd = -controller.axes[3].value*p_max-controller.axes[0].value*(1-p_max)\n",
    "    \n",
    "    if abs(valeurl) < 0.01 or abs(valeurd) < 0.01:\n",
    "        floatsliderl.value = 0\n",
    "        floatsliderd.value = 0\n",
    "    if valeurl < 0 and valeurd <0 :\n",
    "        floatsliderl.value = valeurd\n",
    "        floatsliderd.value = valeurl\n",
    "    else :\n",
    "        floatsliderl.value = valeurl\n",
    "        floatsliderd.value = valeurd        \n",
    "        \n",
    "def stop(change):\n",
    "    floatsliderl.value = 0\n",
    "    floatsliderd.value = 0\n",
    "    \n",
    "controller.axes[1].observe(change_value, names = 'value')\n",
    "controller.axes[3].observe(change_value, names = 'value')\n",
    "controller.buttons[1].observe(stop, names = 'value')\n",
    "\n",
    "left_link = traitlets.dlink((floatsliderl, 'value'), (robot.left_motor, 'value'))\n",
    "right_link = traitlets.dlink((floatsliderd, 'value'), (robot.right_motor, 'value'))\n",
    "        "
   ]
  },
  {
   "cell_type": "code",
   "execution_count": 4,
   "metadata": {},
   "outputs": [],
   "source": [
    "import uuid\n",
    "\n",
    "def save_snapshot0(change):\n",
    "    if change['new']:\n",
    "        file_path = 'dataset/free/' + str(uuid.uuid1()) + '.jpg'\n",
    "        with open(file_path, 'wb') as f:\n",
    "            f.write(image.value)\n",
    "            \n",
    "def save_snapshot1(change):\n",
    "    if change['new']:\n",
    "        file_path = 'dataset/blocked/' + str(uuid.uuid1()) + '.jpg'\n",
    "        with open(file_path, 'wb') as f:\n",
    "            f.write(image.value)\n",
    "            \n",
    "def save_snapshot2(change):\n",
    "    if change['new']:\n",
    "        file_path = 'dataset/stopsign/' + str(uuid.uuid1()) + '.jpg'\n",
    "        with open(file_path, 'wb') as f:\n",
    "            f.write(image.value)\n",
    "            \n",
    "def save_snapshot3(change):\n",
    "    if change['new']:\n",
    "        file_path = 'dataset/pieton/' + str(uuid.uuid1()) + '.jpg'\n",
    "        with open(file_path, 'wb') as f:\n",
    "            f.write(image.value)\n",
    "            \n",
    "def save_snapshot4(change):\n",
    "    if change['new']:\n",
    "        file_path = 'dataset/speed1sign/' + str(uuid.uuid1()) + '.jpg'\n",
    "        with open(file_path, 'wb') as f:\n",
    "            f.write(image.value)\n",
    "            \n",
    "def save_snapshot5(change):\n",
    "    if change['new']:\n",
    "        file_path = 'dataset/speed2sign/' + str(uuid.uuid1()) + '.jpg'\n",
    "        with open(file_path, 'wb') as f:\n",
    "            f.write(image.value)\n",
    "            \n",
    "def save_snapshot6(change):\n",
    "    if change['new']:\n",
    "        file_path = 'dataset/speed3sign/' + str(uuid.uuid1()) + '.jpg'\n",
    "        with open(file_path, 'wb') as f:\n",
    "            f.write(image.value)\n",
    "            \n",
    "def save_snapshot7(change):\n",
    "    if change['new']:\n",
    "        file_path = 'dataset/moveleft/' + str(uuid.uuid1()) + '.jpg'\n",
    "        with open(file_path, 'wb') as f:\n",
    "            f.write(image.value)\n",
    "            \n",
    "def save_snapshot8(change):\n",
    "    if change['new']:\n",
    "        file_path = 'dataset/moveright/' + str(uuid.uuid1()) + '.jpg'\n",
    "        with open(file_path, 'wb') as f:\n",
    "            f.write(image.value)"
   ]
  },
  {
   "cell_type": "code",
   "execution_count": 4,
   "metadata": {},
   "outputs": [],
   "source": [
    "camera.stop()"
   ]
  },
  {
   "cell_type": "code",
   "execution_count": 5,
   "metadata": {},
   "outputs": [
    {
     "data": {
      "application/vnd.jupyter.widget-view+json": {
       "model_id": "076eeaf0498a441fbcf458820e9d6bf8",
       "version_major": 2,
       "version_minor": 0
      },
      "text/plain": [
       "Controller(axes=(Axis(value=1.52587890625e-05), Axis(value=1.52587890625e-05), Axis(value=1.52587890625e-05), …"
      ]
     },
     "metadata": {},
     "output_type": "display_data"
    },
    {
     "data": {
      "application/vnd.jupyter.widget-view+json": {
       "model_id": "2cc3d32082f74ef8a6c82029fd9d28e3",
       "version_major": 2,
       "version_minor": 0
      },
      "text/plain": [
       "Image(value=b'\\xff\\xd8\\xff\\xe0\\x00\\x10JFIF\\x00\\x01\\x01\\x00\\x00\\x01\\x00\\x01\\x00\\x00\\xff\\xdb\\x00C\\x00\\x02\\x01\\x0…"
      ]
     },
     "metadata": {},
     "output_type": "display_data"
    }
   ],
   "source": [
    "controller.buttons[0].observe(save_snapshot0, names='value') # touche A = free\n",
    "controller.buttons[1].observe(save_snapshot1, names='value') # touche B = blocked\n",
    "controller.buttons[2].observe(save_snapshot2, names='value') # touche X = Stop sign\n",
    "controller.buttons[3].observe(save_snapshot3, names='value') # touche Y = Pieton\n",
    "controller.buttons[14].observe(save_snapshot4, names='value') # touche gauche croix gauche = vitesse 1\n",
    "controller.buttons[12].observe(save_snapshot5, names='value') # touche haut croix gauche = vitesse 2\n",
    "controller.buttons[15].observe(save_snapshot6, names='value') # touche droite croix gauche = vitesse 3\n",
    "controller.buttons[4].observe(save_snapshot7, names='value') # touche L1 = tourner à gauche\n",
    "controller.buttons[5].observe(save_snapshot8, names='value') # touche R1 = tourner à droite\n",
    "#display(widgets.HBox([image, snapshot_image]))\n",
    "display(controller)\n",
    "display(image)"
   ]
  },
  {
   "cell_type": "markdown",
   "metadata": {},
   "source": [
    "### Correspondance numéro <-> commande\n",
    "axes[0]: Joystick gauche | gauche - droite                    \n",
    "\n",
    "axes[1]: Joystick gauche | haut - bas\n",
    "\n",
    "axes[2]: Joystick droit | gauche - droite\n",
    "\n",
    "axes[3]: Joystick droit | haut - bas\n",
    "\n",
    "button[0]: croix droite touche bas (A)\n",
    "\n",
    "button[1]: croix droite touche droite (B)\n",
    "\n",
    "button[2]: croix droite touche gauche (X)\n",
    "\n",
    "button[3]: croix droite touche haut (Y)\n",
    "\n",
    "button[4]: L1\n",
    "\n",
    "button[5]: R1\n",
    "\n",
    "button[6]: R2\n",
    "\n",
    "button[7]: L2\n",
    "\n",
    "button[10]: clique joystick gauche\n",
    "\n",
    "button[11]: clique joystick droite\n",
    "\n",
    "button[12]: croix gauche touche haute\n",
    "\n",
    "button[13]: croix gauche touche bas\n",
    "\n",
    "button[14]: croix gauche touche gauche\n",
    "\n",
    "button[15]: croix gauche touche droite"
   ]
  },
  {
   "cell_type": "markdown",
   "metadata": {},
   "source": [
    "### Controle du robot"
   ]
  },
  {
   "cell_type": "code",
   "execution_count": 6,
   "metadata": {},
   "outputs": [],
   "source": [
    "camera.stop()"
   ]
  },
  {
   "cell_type": "code",
   "execution_count": 2,
   "metadata": {},
   "outputs": [
    {
     "name": "stdout",
     "output_type": "stream",
     "text": [
      "^C\n",
      "\n",
      "\n",
      "zip error: Interrupted (aborting)\n"
     ]
    }
   ],
   "source": [
    "!zip -r -q wb.zip whitebox"
   ]
  }
 ],
 "metadata": {
  "kernelspec": {
   "display_name": "Python 3",
   "language": "python",
   "name": "python3"
  },
  "language_info": {
   "codemirror_mode": {
    "name": "ipython",
    "version": 3
   },
   "file_extension": ".py",
   "mimetype": "text/x-python",
   "name": "python",
   "nbconvert_exporter": "python",
   "pygments_lexer": "ipython3",
   "version": "3.6.9"
  }
 },
 "nbformat": 4,
 "nbformat_minor": 4
}
